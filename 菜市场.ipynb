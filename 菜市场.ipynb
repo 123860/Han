{
 "cells": [
  {
   "cell_type": "markdown",
   "metadata": {},
   "source": [
    "- 一天的订单数：X，自送单数：Y\n",
    "    - 0-5KM\n",
    "        - 订单数：X1，自送单数：Y1\n",
    "    - 5-10KM\n",
    "        - 订单数：X2，自送单数：Y2\n",
    "    - 10-15KM\n",
    "        - 订单数：X3，自送单数：Y3\n",
    "    - X = X1+X2+X3；Y = Y1+Y2+Y3"
   ]
  }
 ],
 "metadata": {
  "kernelspec": {
   "display_name": "Python 3",
   "language": "python",
   "name": "python3"
  },
  "language_info": {
   "codemirror_mode": {
    "name": "ipython",
    "version": 3
   },
   "file_extension": ".py",
   "mimetype": "text/x-python",
   "name": "python",
   "nbconvert_exporter": "python",
   "pygments_lexer": "ipython3",
   "version": "3.8.3"
  }
 },
 "nbformat": 4,
 "nbformat_minor": 4
}
